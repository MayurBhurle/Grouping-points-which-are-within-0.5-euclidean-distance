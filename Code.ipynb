{
  "nbformat": 4,
  "nbformat_minor": 0,
  "metadata": {
    "colab": {
      "provenance": []
    },
    "kernelspec": {
      "name": "python3",
      "display_name": "Python 3"
    },
    "language_info": {
      "name": "python"
    }
  },
  "cells": [
    {
      "cell_type": "code",
      "execution_count": 3,
      "metadata": {
        "colab": {
          "base_uri": "https://localhost:8080/"
        },
        "id": "vijwyFwNtXzv",
        "outputId": "bb167e07-e61c-43dd-fa96-b10481b2f9f1"
      },
      "outputs": [
        {
          "output_type": "stream",
          "name": "stdout",
          "text": [
            "          x         y  group\n",
            "0  3.745401  0.205845      0\n",
            "1  9.507143  9.699099      1\n",
            "2  7.319939  8.324426      2\n",
            "3  5.986585  2.123391      3\n",
            "4  1.560186  1.818250      4\n",
            "5  1.559945  1.834045      4\n",
            "6  0.580836  3.042422      5\n",
            "7  8.661761  5.247564      6\n",
            "8  6.011150  4.319450      7\n",
            "9  7.080726  2.912291      8\n"
          ]
        }
      ],
      "source": [
        "import pandas as pd\n",
        "import numpy as np\n",
        "from scipy.spatial import distance_matrix\n",
        "\n",
        "# Create  DataFrame\n",
        "np.random.seed(42)\n",
        "data = {'x': np.random.uniform(0, 10, 10), 'y': np.random.uniform(0, 10, 10)}\n",
        "df = pd.DataFrame(data)\n",
        "\n",
        "#  Euclidean distance matrix\n",
        "dist_matrix = distance_matrix(df[['x', 'y']], df[['x', 'y']])\n",
        "\n",
        "within_threshold = dist_matrix <= 0.5\n",
        "\n",
        "\n",
        "from scipy.sparse.csgraph import connected_components\n",
        "from scipy.sparse import csr_matrix\n",
        "\n",
        "graph = csr_matrix(within_threshold)\n",
        "n_components, labels = connected_components(csgraph=graph, directed=False)\n",
        "\n",
        "\n",
        "df['group'] = labels\n",
        "\n",
        "print(df)"
      ]
    }
  ]
}